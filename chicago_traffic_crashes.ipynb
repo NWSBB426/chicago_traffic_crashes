{
 "cells": [
  {
   "cell_type": "code",
   "execution_count": null,
   "metadata": {
    "tags": []
   },
   "outputs": [],
   "source": [
    "# Dependencies\n",
    "import pandas as pd\n",
    "import numpy as np\n",
    "import requests\n",
    "import json\n",
    "from pathlib import Path\n",
    "import matplotlib.pyplot as plt\n",
    "\n"
   ]
  },
  {
   "cell_type": "code",
   "execution_count": null,
   "metadata": {},
   "outputs": [],
   "source": [
    "# Import csv files \n",
    "crashes_file = Path(\"Resources/Crashes.csv\")\n",
    "people_file = Path(\"Resources/People.csv\")\n",
    "vehicles_file = Path(\"Resources/Vehicles.csv\")\n",
    "\n",
    "# Create dataframe\n",
    "crashes_df = pd.read_csv(crashes_file, encoding=\"ISO-8859-1\")\n",
    "people_df = pd.read_csv(people_file, encoding=\"ISO-8859-1\")\n",
    "vehicles_df = pd.read_csv(vehicles_file, encoding=\"ISO-8859-1\")"
   ]
  },
  {
   "cell_type": "code",
   "execution_count": null,
   "metadata": {},
   "outputs": [],
   "source": [
    "crashes_df.columns"
   ]
  },
  {
   "cell_type": "code",
   "execution_count": null,
   "metadata": {},
   "outputs": [],
   "source": [
    "crashes_df.head()"
   ]
  },
  {
   "cell_type": "code",
   "execution_count": null,
   "metadata": {},
   "outputs": [],
   "source": [
    "people_df.columns"
   ]
  },
  {
   "cell_type": "code",
   "execution_count": null,
   "metadata": {},
   "outputs": [],
   "source": [
    "people_df.head()"
   ]
  },
  {
   "cell_type": "code",
   "execution_count": null,
   "metadata": {},
   "outputs": [],
   "source": [
    "vehicles_df.columns\n"
   ]
  },
  {
   "cell_type": "code",
   "execution_count": null,
   "metadata": {},
   "outputs": [],
   "source": [
    "vehicles_df.head()"
   ]
  },
  {
   "cell_type": "code",
   "execution_count": null,
   "metadata": {
    "tags": []
   },
   "outputs": [],
   "source": [
    "# Traffic accidents in City of Chicago – When and where is it safest to travel through Chicago, looking at just serious injuries and fatalities, last 5 years (2018-2022)\n",
    "\n"
   ]
  },
  {
   "cell_type": "code",
   "execution_count": null,
   "metadata": {
    "tags": []
   },
   "outputs": [],
   "source": [
    "# What are the most fatal intersections in Chicago?\n"
   ]
  },
  {
   "cell_type": "code",
   "execution_count": null,
   "metadata": {
    "tags": []
   },
   "outputs": [],
   "source": [
    "# When are the most fatal months? (time series analysis) – Jian Liu\n",
    "\n",
    "crash_month_summary = crashes_df['CRASH_MONTH'].value_counts().sort_index()\n",
    "for month in range(1, 13):\n",
    "    count = crash_month_summary.get(month, 0)\n",
    "    print(f\"Month {month}: {count} occurrences\")\n"
   ]
  },
  {
   "cell_type": "code",
   "execution_count": null,
   "metadata": {},
   "outputs": [],
   "source": [
    "crash_type_by_month = crashes_df.groupby(['CRASH_MONTH', 'CRASH_TYPE']).size().unstack(fill_value=0)\n",
    "\n",
    "print(crash_type_by_month)"
   ]
  },
  {
   "cell_type": "code",
   "execution_count": null,
   "metadata": {},
   "outputs": [],
   "source": [
    "\n",
    "# Define the data\n",
    "data = {\n",
    "    'CRASH_TYPE': ['INJURY AND / OR TOW DUE TO CRASH', 'NO INJURY / DRIVE AWAY'],\n",
    "    '1': [2474, 5721],\n",
    "    '2': [2194, 5769],\n",
    "    '3': [2426, 6125],\n",
    "    '4': [2559, 5973],\n",
    "    '5': [2831, 6994],\n",
    "    '6': [2855, 6746],\n",
    "    '7': [2806, 6456],\n",
    "    '8': [2697, 6532],\n",
    "    '9': [2747, 6853],\n",
    "    '10': [2950, 6960],\n",
    "    '11': [2587, 6207],\n",
    "    '12': [2643, 6290]\n",
    "}\n",
    "\n",
    "# Convert the data to a DataFrame\n",
    "df = pd.DataFrame(data)\n",
    "df.set_index('CRASH_TYPE', inplace=True)\n",
    "\n",
    "\n",
    "# Create a list of month names\n",
    "month_names = ['January', 'February', 'March', 'April', 'May', 'June', 'July', 'August', 'September', 'October', 'November', 'December']\n",
    "\n",
    "# Create a grouped bar chart\n",
    "ax = df.T.plot(kind='bar', figsize=(10, 6))\n",
    "plt.title('CRASH TYPE Comparison by Month')\n",
    "plt.xlabel('Month')\n",
    "plt.ylabel('Count')\n",
    "plt.xticks(range(len(month_names)), month_names, rotation=45)  # Use month names for x-axis labels\n",
    "\n",
    "# Move the legend outside the plot area\n",
    "plt.legend(title='CRASH TYPE', bbox_to_anchor=(1.05, 1), loc='upper left')\n",
    "plt.savefig(\"Images/crash_type_month.png\")\n",
    "# Show the plot\n",
    "plt.show()"
   ]
  },
  {
   "cell_type": "markdown",
   "metadata": {},
   "source": [
    "#The highest count of \"no injury / drive away\" accidents are in May and October\n",
    "#The highest count of \"injury and / or tow due to crash\" accidents are in October. "
   ]
  },
  {
   "cell_type": "code",
   "execution_count": null,
   "metadata": {},
   "outputs": [],
   "source": [
    "len(crashes_df[\"INJURIES_FATAL\"])"
   ]
  },
  {
   "cell_type": "code",
   "execution_count": null,
   "metadata": {},
   "outputs": [],
   "source": [
    "fatal_injuries_by_month = crashes_df[crashes_df['INJURIES_FATAL'] == 1]\n",
    "\n",
    "fatal_injuries_by_month = fatal_injuries_by_month.groupby('CRASH_MONTH').size()\n",
    "\n",
    "print(fatal_injuries_by_month)"
   ]
  },
  {
   "cell_type": "code",
   "execution_count": null,
   "metadata": {},
   "outputs": [],
   "source": [
    "# Group the data by 'CRASH_MONTH' and sum the 'INJURIES_FATAL' values\n",
    "fatal_injuries_by_month = crashes_df.groupby('CRASH_MONTH')['INJURIES_FATAL'].sum()\n",
    "\n",
    "# Print the total fatal injuries for each month\n",
    "print(fatal_injuries_by_month)"
   ]
  },
  {
   "cell_type": "code",
   "execution_count": null,
   "metadata": {},
   "outputs": [],
   "source": [
    "# Group the data by 'CRASH_MONTH' and sum the 'INJURIES_FATAL' values\n",
    "fatal_injuries_by_month = crashes_df.groupby('CRASH_MONTH')['INJURIES_FATAL'].sum()\n",
    "\n",
    "# Create a line graph\n",
    "plt.figure(figsize=(10, 6))\n",
    "fatal_injuries_by_month.plot(marker='o', linestyle='-')\n",
    "plt.title('Total Fatal Injuries by Month')\n",
    "plt.xlabel('Month')\n",
    "plt.ylabel('Total Fatal Injuries')\n",
    "\n",
    "# Customize the x-axis tick labels to display month names\n",
    "month_names = [\"January\", \"February\", \"March\", \"April\", \"May\", \"June\", \"July\", \"August\", \"September\", \"October\", \"November\", \"December\"]\n",
    "plt.xticks(fatal_injuries_by_month.index, month_names, rotation=45)\n",
    "\n",
    "# Show the plot\n",
    "plt.grid(True)\n",
    "plt.savefig(\"Images/fatal_month.png\")\n",
    "plt.show()"
   ]
  },
  {
   "cell_type": "code",
   "execution_count": null,
   "metadata": {},
   "outputs": [],
   "source": [
    "# Get the counts of \"CRASH_DATE\" by month\n",
    "crash_date_by_month = people_df['CRASH_DATE'].value_counts().sort_index()\n",
    "\n",
    "# Convert the index (month) to a datetime object\n",
    "crash_date_by_month.index = pd.to_datetime(crash_date_by_month.index)\n",
    "\n",
    "# Group the data by month and sum the counts\n",
    "monthly_counts = crash_date_by_month.resample('M').sum()\n",
    "\n",
    "print(monthly_counts)"
   ]
  },
  {
   "cell_type": "code",
   "execution_count": null,
   "metadata": {},
   "outputs": [],
   "source": [
    "# Get the counts of \"CRASH_DATE\" by month\n",
    "crash_date_by_month = people_df['CRASH_DATE'].value_counts().sort_index()\n",
    "\n",
    "# Convert the index (month) to a datetime object\n",
    "crash_date_by_month.index = pd.to_datetime(crash_date_by_month.index)\n",
    "\n",
    "# Group the data by month and sum the counts\n",
    "monthly_counts = crash_date_by_month.resample('M').sum()\n",
    "\n",
    "# Create a line graph\n",
    "plt.figure(figsize=(10, 6))\n",
    "plt.plot(monthly_counts.index, monthly_counts.values, marker='o', linestyle='-')\n",
    "plt.title('Crash Counts by Month')\n",
    "plt.xlabel('Month')\n",
    "plt.ylabel('Crash Count')\n",
    "plt.grid(True)\n",
    "\n",
    "# Customize the x-axis tick labels to display month names\n",
    "custom_tick_labels = [month.strftime('%B') for month in monthly_counts.index]\n",
    "plt.xticks(monthly_counts.index, custom_tick_labels, rotation=45)\n",
    "\n",
    "# Show the plot\n",
    "plt.savefig(\"Images/crash_counts_month.png\")\n",
    "plt.show()"
   ]
  },
  {
   "cell_type": "code",
   "execution_count": null,
   "metadata": {},
   "outputs": [],
   "source": [
    "#Crash count is highest in October, followed by May and finally, June."
   ]
  },
  {
   "cell_type": "code",
   "execution_count": null,
   "metadata": {},
   "outputs": [],
   "source": [
    "crash_date_summary = vehicles_df['CRASH_DATE'].value_counts().sort_index()\n",
    "for month in range(1, 13):\n",
    "    count = crash_date_summary.get(month, 0)\n",
    "    print(f\"Month {month}: {count} occurrences\")"
   ]
  },
  {
   "cell_type": "code",
   "execution_count": null,
   "metadata": {},
   "outputs": [],
   "source": [
    "#Total fatal injuries observed by month, is highest in July, followed by December, and finally, September."
   ]
  },
  {
   "cell_type": "markdown",
   "metadata": {},
   "source": [
    "Analysis of Accident Causes (Cynthia Saving)\n",
    "\n",
    "What are the most common causes for all accidents?\n",
    "1. Failing to Yield Right of Way\n",
    "2. Following Too Closely\n",
    "3. Improper Overtaking/Passing\n",
    "4. Failing to Reduce Speed to Avoid Crash\n",
    "5. Driving Skills/Knowledge/Experience\n",
    "\n",
    "What are most common causes for accidents with injuries?\n",
    "1. Failing to Yield Right of Way\n",
    "2. Following Too Closely\n",
    "3. Failing to Reduce Speed to Avoid Crash\n",
    "4. Disregarding Traffic Signals\n",
    "5. Improper Turning/No Signal\n",
    "\n",
    "However, 47% of all accidents and 36% of accidents with injuries do not have a primary contributory cause reported."
   ]
  },
  {
   "cell_type": "code",
   "execution_count": null,
   "metadata": {
    "tags": []
   },
   "outputs": [],
   "source": [
    "# What are the most common causes? (summary statistics) – Cynthia Saving\n",
    "\n",
    "# Counts of top 10 primary causes all accidents\n",
    "causes_counts = crashes_df['PRIM_CONTRIBUTORY_CAUSE'].value_counts().head(10)\n",
    "\n",
    "# Create horizontal bar chart\n",
    "y_axis = causes_counts.index\n",
    "width = causes_counts.values\n",
    "plt.barh(y_axis, width, height=0.8, align='center')\n",
    "plt.title(\"Top Causes of All Accidents in Chicago\")\n",
    "plt.xlabel(\"Number of Accidents in 2022\")\n",
    "plt.savefig(\"Images/Causes.png\")\n",
    "plt.show()"
   ]
  },
  {
   "cell_type": "code",
   "execution_count": null,
   "metadata": {},
   "outputs": [],
   "source": [
    "# Calculate percentage of total accidents that do not have primary cause reported.\n",
    "total_accidents = len(crashes_df)\n",
    "unable_to_determine = crashes_df['PRIM_CONTRIBUTORY_CAUSE'] == 'UNABLE TO DETERMINE'\n",
    "not_applicable = crashes_df['PRIM_CONTRIBUTORY_CAUSE'] == 'NOT APPLICABLE'\n",
    "no_causes_count = len(crashes_df.loc[unable_to_determine]) + len(crashes_df.loc[not_applicable])\n",
    "no_cause_percent = round(no_causes_count / total_accidents * 100)\n",
    "print(f\"{no_cause_percent}% of all accidents do not have a primary contributory cause reported.\") \n"
   ]
  },
  {
   "cell_type": "code",
   "execution_count": null,
   "metadata": {},
   "outputs": [],
   "source": [
    "# Filter dataframe to only rows with injuries\n",
    "injuries = crashes_df['INJURIES_TOTAL'] > 0\n",
    "inj_causes_df = crashes_df.loc[injuries]\n",
    "\n",
    "#Counts of top 10 primary causes of accidents with injuries\n",
    "inj_cause_counts = inj_causes_df.loc[injuries]['PRIM_CONTRIBUTORY_CAUSE'].value_counts().head(10)\n",
    "\n",
    "# Create horizontal bar chart\n",
    "y_axis = inj_cause_counts.index\n",
    "width = inj_cause_counts.values\n",
    "plt.barh(y_axis, width, height=0.8, align='center')\n",
    "plt.title(\"Top Causes of Accidents with Injuries in Chicago\")\n",
    "plt.xlabel(\"Number of Accidents in 2022\")\n",
    "plt.savefig(\"Images/Injury_Causes.png\")\n",
    "plt.show()\n"
   ]
  },
  {
   "cell_type": "code",
   "execution_count": null,
   "metadata": {},
   "outputs": [],
   "source": [
    "# Calculate percentage of accidents with injuries that do not have primary cause reported.\n",
    "inj_total_accidents = len(inj_causes_df)\n",
    "inj_unable_to_determine = inj_causes_df['PRIM_CONTRIBUTORY_CAUSE'] == 'UNABLE TO DETERMINE'\n",
    "inj_not_applicable = inj_causes_df['PRIM_CONTRIBUTORY_CAUSE'] == 'NOT APPLICABLE'\n",
    "inj_no_causes_count = len(inj_causes_df.loc[unable_to_determine]) + len(inj_causes_df.loc[not_applicable])\n",
    "inj_no_cause_percent = round(inj_no_causes_count / inj_total_accidents * 100)\n",
    "print(f\"{inj_no_cause_percent}% of accidents with injuries do not have a primary contributory cause reported.\") "
   ]
  },
  {
   "cell_type": "code",
   "execution_count": null,
   "metadata": {},
   "outputs": [],
   "source": [
    "# Define the data\n",
    "data_causes = {\n",
    "    'CRASH_TYPE': ['INJURY AND / OR TOW DUE TO CRASH', 'NO INJURY / DRIVE AWAY'],\n",
    "    '1': [2474, 5721],\n",
    "    '2': [2194, 5769],\n",
    "    '3': [2426, 6125],\n",
    "    '4': [2559, 5973],\n",
    "    '5': [2831, 6994],\n",
    "    '6': [2855, 6746],\n",
    "    '7': [2806, 6456],\n",
    "    '8': [2697, 6532],\n",
    "    '9': [2747, 6853],\n",
    "    '10': [2950, 6960],\n",
    "\n",
    "}\n",
    "\n",
    "# Convert the data to a DataFrame\n",
    "df = pd.DataFrame(data)\n",
    "df.set_index('CRASH_TYPE', inplace=True)\n",
    "\n",
    "\n",
    "# Create a list of month names\n",
    "cause_names = ['January', 'February', 'March', 'April', 'May', 'June', 'July', 'August', 'September', 'October', 'November', 'December']\n",
    "\n",
    "# Create a grouped bar chart\n",
    "ax = df.T.plot(kind='bar', figsize=(10, 6))\n",
    "plt.title('CRASH TYPE Comparison by Month')\n",
    "plt.xlabel('Month')\n",
    "plt.ylabel('Count')\n",
    "plt.xticks(range(len(month_names)), month_names, rotation=45)  # Use month names for x-axis labels\n",
    "\n",
    "# Move the legend outside the plot area\n",
    "plt.legend(title='CRASH TYPE', bbox_to_anchor=(1.05, 1), loc='upper left')"
   ]
  },
  {
   "cell_type": "code",
   "execution_count": null,
   "metadata": {
    "tags": []
   },
   "outputs": [],
   "source": [
    "# What driver age is most prevalent? (comparison) – Sonia Singh\n",
    "\n",
    "filtered_age_df = people_df[people_df['PERSON_TYPE'].str.contains('DRIVER', case= False)][['PERSON_TYPE', 'AGE']]\n",
    "filtered_age_df = filtered_age_df.dropna(subset= ['AGE'])\n",
    "age_count_df = pd.DataFrame(filtered_age_df['AGE'].value_counts())\n",
    "age_count_df"
   ]
  },
  {
   "cell_type": "code",
   "execution_count": null,
   "metadata": {},
   "outputs": [],
   "source": [
    "#age comparison visualization - Sonia \n",
    "plt.figure(figsize=(12, 12))\n",
    "\n",
    "plt.scatter(age_count_df.index, age_count_df['count'])\n",
    "plt.xticks(range(0, 115, 5))\n",
    "plt.xlim(0, 115)\n",
    "plt.xlabel('Age of Driver')\n",
    "plt.ylabel('Number of Crashes')\n",
    "plt.title('Age of Driver Vs. Number of Crashes')\n",
    "plt.savefig(\"Images/Age_Crashes.png\")\n",
    "plt.show()"
   ]
  },
  {
   "cell_type": "code",
   "execution_count": null,
   "metadata": {
    "tags": []
   },
   "outputs": [],
   "source": [
    "# What vehicle age is most common? (correlation) – Tony Quintana\n",
    "\n",
    "#Assuming 'Vehicle_Make' is the column representing the vehicle makes\n",
    "vehicle_make_counts = vehicles_df['VEHICLE_YEAR'].value_counts()\n",
    "# Select the top 10 vehicle makes\n",
    "top_10 = vehicle_make_counts.head(20)\n",
    "# Visualization of the top 10 vehicle makes\n",
    "plt.figure(figsize=(10, 6))\n",
    "top_10.plot(kind='barh', color='skyblue')\n",
    "plt.title('Top 10 Vehicle Makes in Chicago Accidents')\n",
    "plt.xlabel('Vehicle Make')\n",
    "plt.ylabel('Number of Accidents')\n",
    "plt.show()"
   ]
  },
  {
   "cell_type": "code",
   "execution_count": null,
   "metadata": {
    "tags": []
   },
   "outputs": [],
   "source": [
    "# What vehicle make and/or Type is most common? (comparison) – Sean Bell\n",
    "# tYPE is the column representing the vehicle makes\n",
    "vehicle_type_counts = vehicles_df['VEHICLE_TYPE'].value_counts()\n",
    "\n",
    "# Select the top 10 vehicle makes\n",
    "top_10 = vehicle_type_counts.head(10)\n",
    "\n",
    "# Visualization of the top 10 vehicle makes\n",
    "plt.figure(figsize=(10, 6))\n",
    "top_10.plot(kind='barh')\n",
    "plt.title('Top 10 Vehicle Types in Chicago Accidents')\n",
    "plt.ylabel('Vehicle Type')\n",
    "plt.xlabel('Number of Accidents 2022')\n",
    "plt.show()\n",
    "plt.savefig(\"Images/top10vehicletypesinchicagoaccdents.png\")"
   ]
  },
  {
   "cell_type": "code",
   "execution_count": null,
   "metadata": {
    "tags": []
   },
   "outputs": [],
   "source": [
    "# What vehicle make and/or Type is most common? (comparison) – Sean Bell\n",
    "\n",
    "#MAKE is the column representing the vehicle makes\n",
    "vehicle_make_counts = vehicles_df['MAKE'].value_counts()\n",
    "\n",
    "# Select the top 10 vehicle makes\n",
    "top_10 = vehicle_make_counts.head(10)\n",
    "\n",
    "# Visualization of the top 10 vehicle makes\n",
    "plt.figure(figsize=(10, 6))\n",
    "top_10.plot(kind='barh')\n",
    "plt.title('Top 10 Vehicle Makes in Chicago Accidents')\n",
    "plt.ylabel('Vehicle Make')\n",
    "plt.xlabel('Number of Accidents 2022')\n",
    "plt.show()\n",
    "plt.savefig(\"Images/vehiclemakes.png\")\n"
   ]
  },
  {
   "cell_type": "code",
   "execution_count": null,
   "metadata": {},
   "outputs": [],
   "source": []
  }
 ],
 "metadata": {
  "kernelspec": {
   "display_name": "Python 3 (ipykernel)",
   "language": "python",
   "name": "python3"
  },
  "language_info": {
   "codemirror_mode": {
    "name": "ipython",
    "version": 3
   },
   "file_extension": ".py",
   "mimetype": "text/x-python",
   "name": "python",
   "nbconvert_exporter": "python",
   "pygments_lexer": "ipython3",
   "version": "3.10.13"
  }
 },
 "nbformat": 4,
 "nbformat_minor": 4
}
