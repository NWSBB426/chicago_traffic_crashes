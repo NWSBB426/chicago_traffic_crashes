{
 "cells": [
  {
   "cell_type": "code",
   "execution_count": null,
   "metadata": {
    "tags": []
   },
   "outputs": [],
   "source": [
    "# Dependencies\n",
    "import pandas as pd\n",
    "import numpy as np\n",
    "import requests\n",
    "import json\n",
    "from pathlib import Path\n",
    "import matplotlib.pyplot as plt\n"
   ]
  },
  {
   "cell_type": "code",
   "execution_count": null,
   "metadata": {
    "tags": []
   },
   "outputs": [],
   "source": [
    "# traffic_crash_url = \"https://data.cityofchicago.org/resource/85ca-t3if.json\"\n",
    "# people_url = \"https://data.cityofchicago.org/resource/u6pd-qa9d.json\"\n",
    "# vehicles_url= \"https://data.cityofchicago.org/resource/68nd-jvt3.json\"\n",
    "\n",
    "# people = requests.get(people_url).json()\n",
    "#people_df = pd.DataFrame()\n",
    "# people[0]"
   ]
  },
  {
   "cell_type": "code",
   "execution_count": null,
   "metadata": {
    "tags": []
   },
   "outputs": [],
   "source": []
  },
  {
   "cell_type": "code",
   "execution_count": null,
   "metadata": {},
   "outputs": [],
   "source": [
    "# Import csv files \n",
    "crashes_file = Path(\"Resources/Crashes.csv\")\n",
    "people_file = Path(\"Resources/People.csv\")\n",
    "vehicles_file = Path(\"Resources/Vehicles.csv\")\n",
    "\n",
    "# Create dataframe\n",
    "crashes_df = pd.read_csv(crashes_file, encoding=\"ISO-8859-1\")\n",
    "people_df = pd.read_csv(people_file, encoding=\"ISO-8859-1\")\n",
    "vehicles_df = pd.read_csv(vehicles_file, encoding=\"ISO-8859-1\")"
   ]
  },
  {
   "cell_type": "code",
   "execution_count": null,
   "metadata": {},
   "outputs": [],
   "source": [
    "crashes_df.columns"
   ]
  },
  {
   "cell_type": "code",
   "execution_count": null,
   "metadata": {},
   "outputs": [],
   "source": [
    "crashes_df.head()"
   ]
  },
  {
   "cell_type": "code",
   "execution_count": null,
   "metadata": {},
   "outputs": [],
   "source": [
    "people_df.columns"
   ]
  },
  {
   "cell_type": "code",
   "execution_count": null,
   "metadata": {},
   "outputs": [],
   "source": [
    "people_df.head()"
   ]
  },
  {
   "cell_type": "code",
   "execution_count": null,
   "metadata": {},
   "outputs": [],
   "source": [
    "vehicles_df.columns\n"
   ]
  },
  {
   "cell_type": "code",
   "execution_count": null,
   "metadata": {},
   "outputs": [],
   "source": [
    "vehicles_df.head()"
   ]
  },
  {
   "cell_type": "code",
   "execution_count": null,
   "metadata": {},
   "outputs": [],
   "source": [
    "# Traffic accidents in City of Chicago – When and where is it safest to travel through Chicago, looking at just serious injuries and fatalities, last 5 years (2018-2022)"
   ]
  },
  {
   "cell_type": "code",
   "execution_count": null,
   "metadata": {},
   "outputs": [],
   "source": [
    "# What are the most fatal intersections in Chicago?\n"
   ]
  },
  {
   "cell_type": "code",
   "execution_count": null,
   "metadata": {},
   "outputs": [],
   "source": [
    "# When are the most fatal months? (time series analysis) – Jian Liu\n"
   ]
  },
  {
   "cell_type": "markdown",
   "metadata": {},
   "source": [
    "Analysis of Accident Causes (Cynthia Saving)\n",
    "\n",
    "What are the most common causes for all accidents?\n",
    "1. Failing to Yield Right of Way\n",
    "2. Following Too Closely\n",
    "3. Improper Overtaking/Passing\n",
    "4. Failing to Reduce Speed to Avoid Crash\n",
    "5. Driving Skills/Knowledge/Experience\n",
    "\n",
    "What are most common causes for accidents with injuries?\n",
    "1. Failing to Yield Right of Way\n",
    "2. Following Too Closely\n",
    "3. Failing to Reduce Speed to Avoid Crash\n",
    "4. Disregarding Traffic Signals\n",
    "5. Improper Turning/No Signal\n",
    "\n",
    "However, 47% of all accidents and 36% of accidents with injuries do not have a primary contributory cause reported."
   ]
  },
  {
   "cell_type": "code",
   "execution_count": null,
   "metadata": {},
   "outputs": [],
   "source": [
    "# What are the most common causes? (summary statistics) – Cynthia Saving\n",
    "\n",
    "# Counts of top 10 primary causes all accidents\n",
    "causes_counts = crashes_df['PRIM_CONTRIBUTORY_CAUSE'].value_counts().head(10)\n",
    "\n",
    "# Create horizontal bar chart\n",
    "y_axis = causes_counts.index\n",
    "width = causes_counts.values\n",
    "plt.barh(y_axis, width, height=0.8, align='center')\n",
    "plt.title(\"Top Causes of All Accidents in Chicago\")\n",
    "plt.xlabel(\"Number of Accidents in 2022\")\n",
    "plt.savefig(\"Images/Causes.png\")\n",
    "plt.show()"
   ]
  },
  {
   "cell_type": "code",
   "execution_count": null,
   "metadata": {},
   "outputs": [],
   "source": [
    "# Calculate percentage of total accidents that do not have primary cause reported.\n",
    "total_accidents = len(crashes_df)\n",
    "unable_to_determine = crashes_df['PRIM_CONTRIBUTORY_CAUSE'] == 'UNABLE TO DETERMINE'\n",
    "not_applicable = crashes_df['PRIM_CONTRIBUTORY_CAUSE'] == 'NOT APPLICABLE'\n",
    "no_causes_count = len(crashes_df.loc[unable_to_determine]) + len(crashes_df.loc[not_applicable])\n",
    "no_cause_percent = round(no_causes_count / total_accidents * 100)\n",
    "print(f\"{no_cause_percent}% of all accidents do not have a primary contributory cause reported.\") \n"
   ]
  },
  {
   "cell_type": "code",
   "execution_count": null,
   "metadata": {},
   "outputs": [],
   "source": [
    "# Filter dataframe to only rows with injuries\n",
    "injuries = crashes_df['INJURIES_TOTAL'] > 0\n",
    "inj_causes_df = crashes_df.loc[injuries]\n",
    "\n",
    "#Counts of top 10 primary causes of accidents with injuries\n",
    "inj_cause_counts = inj_causes_df.loc[injuries]['PRIM_CONTRIBUTORY_CAUSE'].value_counts().head(10)\n",
    "\n",
    "# Create horizontal bar chart\n",
    "y_axis = inj_cause_counts.index\n",
    "width = inj_cause_counts.values\n",
    "plt.barh(y_axis, width, height=0.8, align='center')\n",
    "plt.title(\"Top Causes of Accidents with Injuries in Chicago\")\n",
    "plt.xlabel(\"Number of Accidents in 2022\")\n",
    "plt.savefig(\"Images/Injury_Causes.png\")\n",
    "plt.show()\n"
   ]
  },
  {
   "cell_type": "code",
   "execution_count": null,
   "metadata": {},
   "outputs": [],
   "source": [
    "# Calculate percentage of accidents with injuries that do not have primary cause reported.\n",
    "inj_total_accidents = len(inj_causes_df)\n",
    "inj_unable_to_determine = inj_causes_df['PRIM_CONTRIBUTORY_CAUSE'] == 'UNABLE TO DETERMINE'\n",
    "inj_not_applicable = inj_causes_df['PRIM_CONTRIBUTORY_CAUSE'] == 'NOT APPLICABLE'\n",
    "inj_no_causes_count = len(inj_causes_df.loc[unable_to_determine]) + len(inj_causes_df.loc[not_applicable])\n",
    "inj_no_cause_percent = round(inj_no_causes_count / inj_total_accidents * 100)\n",
    "print(f\"{inj_no_cause_percent}% of accidents with injuries do not have a primary contributory cause reported.\") "
   ]
  },
  {
   "cell_type": "code",
   "execution_count": null,
   "metadata": {},
   "outputs": [],
   "source": [
    "# What driver age is most prevalent? (comparison) – Sonia Singh\n"
   ]
  },
  {
   "cell_type": "code",
   "execution_count": null,
   "metadata": {},
   "outputs": [],
   "source": [
    "# What vehicle age is most common? (correlation) – Tony Quintana\n"
   ]
  },
  {
   "cell_type": "code",
   "execution_count": null,
   "metadata": {},
   "outputs": [],
   "source": [
    "# What vehicle make and/or model is most common? (comparison) – Sean Bell\n"
   ]
  }
 ],
 "metadata": {
  "kernelspec": {
   "display_name": "Python 3 (ipykernel)",
   "language": "python",
   "name": "python3"
  },
  "language_info": {
   "codemirror_mode": {
    "name": "ipython",
    "version": 3
   },
   "file_extension": ".py",
   "mimetype": "text/x-python",
   "name": "python",
   "nbconvert_exporter": "python",
   "pygments_lexer": "ipython3",
   "version": "3.10.13"
  }
 },
 "nbformat": 4,
 "nbformat_minor": 4
}
