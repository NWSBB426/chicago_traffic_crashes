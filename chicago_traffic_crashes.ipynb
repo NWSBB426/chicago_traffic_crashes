{
 "cells": [
  {
   "cell_type": "code",
   "execution_count": null,
   "metadata": {
    "tags": []
   },
   "outputs": [],
   "source": [
    "# Dependencies\n",
    "import pandas as pd\n",
    "import numpy as np\n",
    "import requests\n",
    "import json\n",
    "from pathlib import Path\n"
   ]
  },
  {
   "cell_type": "code",
   "execution_count": null,
   "metadata": {
    "tags": []
   },
   "outputs": [],
   "source": [
    "traffic_crash_url = \"https://data.cityofchicago.org/resource/85ca-t3if.json\"\n",
    "people_url = \"https://data.cityofchicago.org/resource/u6pd-qa9d.json\"\n",
    "vehicles_url= \"https://data.cityofchicago.org/resource/68nd-jvt3.json\"\n",
    "\n",
    "people = requests.get(people_url).json()\n",
    "people_df = pd.DataFrame()\n",
    "people[0]"
   ]
  },
  {
   "cell_type": "code",
   "execution_count": null,
   "metadata": {},
   "outputs": [],
   "source": [
    "# Import csv files \n",
    "crashes_file = Path(\"Resources/Crashes.csv\")\n",
    "people_file = Path(\"Resources/People.csv\")\n",
    "vehicles_file = Path(\"Resources/Vehicles.csv\")\n",
    "\n",
    "# Create dataframe\n",
    "crashes_df = pd.read_csv(crashes_file, encoding=\"ISO-8859-1\")\n",
    "people_df = pd.read_csv(people_file, encoding=\"ISO-8859-1\")\n",
    "vehicles_df = pd.read_csv(vehicles_file, encoding=\"ISO-8859-1\")"
   ]
  },
  {
   "cell_type": "code",
   "execution_count": null,
   "metadata": {},
   "outputs": [],
   "source": [
    "crashes_df.columns\n"
   ]
  },
  {
   "cell_type": "code",
   "execution_count": null,
   "metadata": {},
   "outputs": [],
   "source": [
    "crash_month_summary = crashes_df['CRASH_MONTH'].value_counts().sort_index()\n",
    "for month in range(1, 13):\n",
    "    count = crash_month_summary.get(month, 0)\n",
    "    print(f\"Month {month}: {count} occurrences\")"
   ]
  },
  {
   "cell_type": "code",
   "execution_count": null,
   "metadata": {},
   "outputs": [],
   "source": [
    "crash_type_by_month = crashes_df.groupby(['CRASH_MONTH', 'CRASH_TYPE']).size().unstack(fill_value=0)\n",
    "\n",
    "print(crash_type_by_month)"
   ]
  },
  {
   "cell_type": "code",
   "execution_count": null,
   "metadata": {},
   "outputs": [],
   "source": [
    "import matplotlib.pyplot as plt\n",
    "\n",
    "# Define the data\n",
    "data = {\n",
    "    'CRASH_TYPE': ['INJURY AND / OR TOW DUE TO CRASH', 'NO INJURY / DRIVE AWAY'],\n",
    "    '1': [2474, 5721],\n",
    "    '2': [2194, 5769],\n",
    "    '3': [2426, 6125],\n",
    "    '4': [2559, 5973],\n",
    "    '5': [2831, 6994],\n",
    "    '6': [2855, 6746],\n",
    "    '7': [2806, 6456],\n",
    "    '8': [2697, 6532],\n",
    "    '9': [2747, 6853],\n",
    "    '10': [2950, 6960],\n",
    "    '11': [2587, 6207],\n",
    "    '12': [2643, 6290]\n",
    "}\n",
    "\n",
    "# Convert the data to a DataFrame\n",
    "df = pd.DataFrame(data)\n",
    "df.set_index('CRASH_TYPE', inplace=True)\n",
    "\n",
    "# Create a list of month names\n",
    "month_names = ['January', 'February', 'March', 'April', 'May', 'June', 'July', 'August', 'September', 'October', 'November', 'December']\n",
    "\n",
    "# Create a grouped bar chart\n",
    "ax = df.T.plot(kind='bar', figsize=(10, 6))\n",
    "plt.title('CRASH TYPE Comparison by Month')\n",
    "plt.xlabel('Month')\n",
    "plt.ylabel('Count')\n",
    "plt.xticks(range(len(month_names)), month_names, rotation=45)  # Use month names for x-axis labels\n",
    "\n",
    "# Move the legend outside the plot area\n",
    "plt.legend(title='CRASH TYPE', bbox_to_anchor=(1.05, 1), loc='upper left')\n",
    "\n",
    "# Show the plot\n",
    "plt.show()"
   ]
  },
  {
   "cell_type": "code",
   "execution_count": null,
   "metadata": {},
   "outputs": [],
   "source": [
    "#The highest count of \"no injury / drive away\" accidents are in May and October\n",
    "#The highest count of \"injury and / or tow due to crash\" accidents are in October. "
   ]
  },
  {
   "cell_type": "code",
   "execution_count": null,
   "metadata": {},
   "outputs": [],
   "source": [
    "len(crashes_df[\"INJURIES_FATAL\"])"
   ]
  },
  {
   "cell_type": "code",
   "execution_count": null,
   "metadata": {},
   "outputs": [],
   "source": [
    "fatal_injuries_by_month = crashes_df[crashes_df['INJURIES_FATAL'] == 1]\n",
    "\n",
    "fatal_injuries_by_month = fatal_injuries_by_month.groupby('CRASH_MONTH').size()\n",
    "\n",
    "print(fatal_injuries_by_month)"
   ]
  },
  {
   "cell_type": "code",
   "execution_count": null,
   "metadata": {},
   "outputs": [],
   "source": [
    "# Group the data by 'CRASH_MONTH' and sum the 'INJURIES_FATAL' values\n",
    "fatal_injuries_by_month = crashes_df.groupby('CRASH_MONTH')['INJURIES_FATAL'].sum()\n",
    "\n",
    "# Print the total fatal injuries for each month\n",
    "print(fatal_injuries_by_month)"
   ]
  },
  {
   "cell_type": "code",
   "execution_count": null,
   "metadata": {},
   "outputs": [],
   "source": [
    "import matplotlib.pyplot as plt\n",
    "\n",
    "# Group the data by 'CRASH_MONTH' and sum the 'INJURIES_FATAL' values\n",
    "fatal_injuries_by_month = crashes_df.groupby('CRASH_MONTH')['INJURIES_FATAL'].sum()\n",
    "\n",
    "# Create a line graph\n",
    "plt.figure(figsize=(10, 6))\n",
    "fatal_injuries_by_month.plot(marker='o', linestyle='-')\n",
    "plt.title('Total Fatal Injuries by Month')\n",
    "plt.xlabel('Month')\n",
    "plt.ylabel('Total Fatal Injuries')\n",
    "\n",
    "# Customize the x-axis tick labels to display month names\n",
    "month_names = [\"January\", \"February\", \"March\", \"April\", \"May\", \"June\", \"July\", \"August\", \"September\", \"October\", \"November\", \"December\"]\n",
    "plt.xticks(fatal_injuries_by_month.index, month_names, rotation=45)\n",
    "\n",
    "# Show the plot\n",
    "plt.grid(True)\n",
    "plt.show()"
   ]
  },
  {
   "cell_type": "code",
   "execution_count": null,
   "metadata": {},
   "outputs": [],
   "source": [
    "#Total fatal injuries observed by month, is highest in July, followed by December, and finally, September."
   ]
  },
  {
   "cell_type": "code",
   "execution_count": null,
   "metadata": {},
   "outputs": [],
   "source": [
    "crashes_df.head()"
   ]
  },
  {
   "cell_type": "code",
   "execution_count": null,
   "metadata": {},
   "outputs": [],
   "source": [
    "people_df.head()"
   ]
  },
  {
   "cell_type": "code",
   "execution_count": null,
   "metadata": {},
   "outputs": [],
   "source": [
    "people_df.columns"
   ]
  },
  {
   "cell_type": "code",
   "execution_count": null,
   "metadata": {},
   "outputs": [],
   "source": [
    "# Get the counts of \"CRASH_DATE\" by month\n",
    "crash_date_by_month = people_df['CRASH_DATE'].value_counts().sort_index()\n",
    "\n",
    "# Convert the index (month) to a datetime object\n",
    "crash_date_by_month.index = pd.to_datetime(crash_date_by_month.index)\n",
    "\n",
    "# Group the data by month and sum the counts\n",
    "monthly_counts = crash_date_by_month.resample('M').sum()\n",
    "\n",
    "print(monthly_counts)"
   ]
  },
  {
   "cell_type": "code",
   "execution_count": null,
   "metadata": {},
   "outputs": [],
   "source": [
    "import matplotlib.pyplot as plt\n",
    "\n",
    "# Get the counts of \"CRASH_DATE\" by month\n",
    "crash_date_by_month = people_df['CRASH_DATE'].value_counts().sort_index()\n",
    "\n",
    "# Convert the index (month) to a datetime object\n",
    "crash_date_by_month.index = pd.to_datetime(crash_date_by_month.index)\n",
    "\n",
    "# Group the data by month and sum the counts\n",
    "monthly_counts = crash_date_by_month.resample('M').sum()\n",
    "\n",
    "# Create a line graph\n",
    "plt.figure(figsize=(10, 6))\n",
    "plt.plot(monthly_counts.index, monthly_counts.values, marker='o', linestyle='-')\n",
    "plt.title('Crash Counts by Month')\n",
    "plt.xlabel('Month')\n",
    "plt.ylabel('Crash Count')\n",
    "plt.grid(True)\n",
    "\n",
    "# Customize the x-axis tick labels to display month names\n",
    "custom_tick_labels = [month.strftime('%B') for month in monthly_counts.index]\n",
    "plt.xticks(monthly_counts.index, custom_tick_labels, rotation=45)\n",
    "\n",
    "# Show the plot\n",
    "plt.show()"
   ]
  },
  {
   "cell_type": "code",
   "execution_count": null,
   "metadata": {},
   "outputs": [],
   "source": [
    "#Crash count is highest in October, followed by May and finally, June."
   ]
  },
  {
   "cell_type": "code",
   "execution_count": null,
   "metadata": {},
   "outputs": [],
   "source": [
    "vehicles_df.columns\n"
   ]
  },
  {
   "cell_type": "code",
   "execution_count": null,
   "metadata": {},
   "outputs": [],
   "source": [
    "crash_date_summary = vehicles_df['CRASH_DATE'].value_counts().sort_index()\n",
    "for month in range(1, 13):\n",
    "    count = crash_date_summary.get(month, 0)\n",
    "    print(f\"Month {month}: {count} occurrences\")"
   ]
  },
  {
   "cell_type": "code",
   "execution_count": null,
   "metadata": {},
   "outputs": [],
   "source": [
    "vehicles_df.head()"
   ]
  },
  {
   "cell_type": "code",
   "execution_count": null,
   "metadata": {},
   "outputs": [],
   "source": [
    "# When are the most fatal months? (time series analysis) – Jian Liu\n"
   ]
  },
  {
   "cell_type": "code",
   "execution_count": null,
   "metadata": {},
   "outputs": [],
   "source": []
  },
  {
   "cell_type": "code",
   "execution_count": null,
   "metadata": {},
   "outputs": [],
   "source": [
    "# Traffic accidents in City of Chicago – When and where is it safest to travel through Chicago, looking at just serious injuries and fatalities, last 5 years (2018-2022)"
   ]
  },
  {
   "cell_type": "code",
   "execution_count": null,
   "metadata": {},
   "outputs": [],
   "source": [
    "# What are the most fatal intersections in Chicago?\n"
   ]
  },
  {
   "cell_type": "code",
   "execution_count": null,
   "metadata": {},
   "outputs": [],
   "source": [
    "# What are the most common causes? (summary statistics) – Cynthia Saving\n"
   ]
  },
  {
   "cell_type": "code",
   "execution_count": null,
   "metadata": {},
   "outputs": [],
   "source": [
    "# What driver age is most prevalent? (comparison) – Sonia Singh\n"
   ]
  },
  {
   "cell_type": "code",
   "execution_count": null,
   "metadata": {},
   "outputs": [],
   "source": [
    "# What vehicle age is most common? (correlation) – Tony Quintana\n"
   ]
  },
  {
   "cell_type": "code",
   "execution_count": null,
   "metadata": {},
   "outputs": [],
   "source": [
    "# What vehicle make and/or model is most common? (comparison) – Sean Bell\n"
   ]
  }
 ],
 "metadata": {
  "kernelspec": {
   "display_name": "Python 3 (ipykernel)",
   "language": "python",
   "name": "python3"
  },
  "language_info": {
   "codemirror_mode": {
    "name": "ipython",
    "version": 3
   },
   "file_extension": ".py",
   "mimetype": "text/x-python",
   "name": "python",
   "nbconvert_exporter": "python",
   "pygments_lexer": "ipython3",
   "version": "3.11.4"
  }
 },
 "nbformat": 4,
 "nbformat_minor": 4
}
