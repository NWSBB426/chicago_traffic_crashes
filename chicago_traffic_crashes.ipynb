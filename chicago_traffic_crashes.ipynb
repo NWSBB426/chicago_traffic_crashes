{
 "cells": [
  {
   "cell_type": "code",
   "execution_count": 10,
   "metadata": {
    "tags": []
   },
   "outputs": [],
   "source": [
    "# Dependencies\n",
    "import pandas as pd\n",
    "import numpy as np\n",
    "import requests\n",
    "import json\n",
    "\n"
   ]
  },
  {
   "cell_type": "code",
   "execution_count": 11,
   "metadata": {
    "tags": []
   },
   "outputs": [],
   "source": [
    "# traffic_crash_url = \"https://data.cityofchicago.org/resource/85ca-t3if.json\"\n",
    "# people_url = \"https://data.cityofchicago.org/resource/u6pd-qa9d.json\"\n",
    "# vehicles_url= \"https://data.cityofchicago.org/resource/68nd-jvt3.json\"\n",
    "\n",
    "# people = requests.get(people_url).json()\n",
    "#people_df = pd.DataFrame()\n",
    "# people[0]"
   ]
  },
  {
   "cell_type": "code",
   "execution_count": 14,
   "metadata": {
    "tags": []
   },
   "outputs": [],
   "source": []
  },
  {
   "cell_type": "code",
   "execution_count": 16,
   "metadata": {
    "tags": []
   },
   "outputs": [
    {
     "data": {
      "text/plain": [
       "{'person_id': 'O1683234',\n",
       " 'person_type': 'DRIVER',\n",
       " 'crash_record_id': 'b6765708f2a4127b47fa0c13f26e4d5998e1395b2a0d8cd3ed9e8b9b7d5498c41c6c507aa6e1aa9c25a4c8e33a70f0ddeb02924159bacdabfafbe7045a97e83f',\n",
       " 'vehicle_id': '1602051',\n",
       " 'crash_date': '2023-10-17T01:05:00.000',\n",
       " 'city': 'CHICAGO',\n",
       " 'state': 'IL',\n",
       " 'zipcode': '60625',\n",
       " 'sex': 'M',\n",
       " 'age': '43',\n",
       " 'drivers_license_state': 'IL',\n",
       " 'drivers_license_class': 'D',\n",
       " 'safety_equipment': 'SAFETY BELT USED',\n",
       " 'airbag_deployed': 'DID NOT DEPLOY',\n",
       " 'ejection': 'NONE',\n",
       " 'injury_classification': 'NO INDICATION OF INJURY',\n",
       " 'driver_action': 'DISREGARDED CONTROL DEVICES',\n",
       " 'driver_vision': 'UNKNOWN',\n",
       " 'physical_condition': 'NORMAL',\n",
       " 'bac_result': 'TEST NOT OFFERED'}"
      ]
     },
     "execution_count": 16,
     "metadata": {},
     "output_type": "execute_result"
    }
   ],
   "source": []
  },
  {
   "cell_type": "code",
   "execution_count": null,
   "metadata": {},
   "outputs": [],
   "source": [
    "# Traffic accidents in City of Chicago – When and where is it safest to travel through Chicago, looking at just serious injuries and fatalities, last 5 years (2018-2022)"
   ]
  },
  {
   "cell_type": "code",
   "execution_count": null,
   "metadata": {},
   "outputs": [],
   "source": [
    "# What are the most fatal intersections in Chicago?\n"
   ]
  },
  {
   "cell_type": "code",
   "execution_count": null,
   "metadata": {},
   "outputs": [],
   "source": [
    "# When are the most fatal months? (time series analysis) – Jian Liu\n"
   ]
  },
  {
   "cell_type": "code",
   "execution_count": null,
   "metadata": {},
   "outputs": [],
   "source": [
    "# What are the most common causes? (summary statistics) – Cynthia Saving\n"
   ]
  },
  {
   "cell_type": "code",
   "execution_count": null,
   "metadata": {},
   "outputs": [],
   "source": [
    "# What driver age is most prevalent? (comparison) – Sonia Singh\n"
   ]
  },
  {
   "cell_type": "code",
   "execution_count": null,
   "metadata": {},
   "outputs": [],
   "source": [
    "# What vehicle age is most common? (correlation) – Tony Quintana\n"
   ]
  },
  {
   "cell_type": "code",
   "execution_count": null,
   "metadata": {},
   "outputs": [],
   "source": [
    "# What vehicle make and/or model is most common? (comparison) – Sean Bell\n"
   ]
  }
 ],
 "metadata": {
  "kernelspec": {
   "display_name": "Python 3 (ipykernel)",
   "language": "python",
   "name": "python3"
  },
  "language_info": {
   "codemirror_mode": {
    "name": "ipython",
    "version": 3
   },
   "file_extension": ".py",
   "mimetype": "text/x-python",
   "name": "python",
   "nbconvert_exporter": "python",
   "pygments_lexer": "ipython3",
   "version": "3.11.4"
  }
 },
 "nbformat": 4,
 "nbformat_minor": 4
}
